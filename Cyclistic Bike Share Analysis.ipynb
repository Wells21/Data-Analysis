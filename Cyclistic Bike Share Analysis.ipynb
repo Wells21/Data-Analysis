{
 "cells": [
  {
   "cell_type": "markdown",
   "id": "56d481ca",
   "metadata": {},
   "source": [
    "# Cyclistic Bike Share Analysis"
   ]
  },
  {
   "cell_type": "markdown",
   "id": "19bd8f06",
   "metadata": {},
   "source": [
    "In 2016, Cyclistic launched a successful bike-share offering. Since then, the program has grown to a fleet of 5,824 bicycles that\n",
    "are geotracked and locked into a network of 692 stations across Chicago. The bikes can be unlocked from one station and\n",
    "returned to any other station in the system anytime."
   ]
  },
  {
   "cell_type": "markdown",
   "id": "56b70b9f",
   "metadata": {},
   "source": [
    "Until now, Cyclistic’s marketing strategy relied on building general awareness and appealing to broad consumer segments.\n",
    "One approach that helped make these things possible was the flexibility of its pricing plans: single-ride passes, full-day passes,\n",
    "and annual memberships. Customers who purchase single-ride or full-day passes are referred to as casual riders. Customers\n",
    "who purchase annual memberships are Cyclistic members."
   ]
  },
  {
   "cell_type": "markdown",
   "id": "ef5b7030",
   "metadata": {},
   "source": [
    "**Here is the set goal**: To design marketing strategies aimed at converting casual riders into annual members. In order to\n",
    "do that, however, the marketing analyst team needs to better understand how annual members and casual riders differ, why\n",
    "casual riders would buy a membership. We are\n",
    "interested in analyzing the Cyclistic historical bike trip data to identify trends."
   ]
  },
  {
   "cell_type": "markdown",
   "id": "ba601f36",
   "metadata": {},
   "source": [
    "### Deliverables\n",
    "1. A clear statement of the business task\n",
    "2. A description of all data sources used\n",
    "3. Documentation of any cleaning or manipulation of data\n",
    "4. Summary of the analysis\n",
    "5. Supporting visualizations and key findings\n",
    "6. Top three recommendations based on the analysis"
   ]
  },
  {
   "cell_type": "markdown",
   "id": "af9c8469",
   "metadata": {},
   "source": [
    "**Business Task**\n",
    "\n",
    "How do annual members and casual riders use Cyclistic bikes differently?"
   ]
  },
  {
   "cell_type": "markdown",
   "id": "eeceb778",
   "metadata": {},
   "source": [
    "****"
   ]
  },
  {
   "cell_type": "markdown",
   "id": "c65fb475",
   "metadata": {},
   "source": [
    "## Data Sources\n",
    "\n",
    "https://divvy-tripdata.s3.amazonaws.com/index.html"
   ]
  },
  {
   "cell_type": "markdown",
   "id": "2f8d6855",
   "metadata": {},
   "source": [
    "-------"
   ]
  },
  {
   "cell_type": "markdown",
   "id": "c9475961",
   "metadata": {},
   "source": [
    "## Data Preparation"
   ]
  },
  {
   "cell_type": "code",
   "execution_count": 1,
   "id": "a48e2b9e",
   "metadata": {},
   "outputs": [],
   "source": [
    "# importing neccessary modules\n",
    "import pandas as pd\n",
    "import numpy as np\n",
    "import seaborn as sns"
   ]
  },
  {
   "cell_type": "code",
   "execution_count": 2,
   "id": "1f6b3d9e",
   "metadata": {},
   "outputs": [],
   "source": [
    "data = pd.read_csv(r\"C:\\Users\\WELLS\\202305-divvy-tripdata.csv\")"
   ]
  },
  {
   "cell_type": "code",
   "execution_count": 3,
   "id": "3fe5c35b",
   "metadata": {},
   "outputs": [
    {
     "data": {
      "text/html": [
       "<div>\n",
       "<style scoped>\n",
       "    .dataframe tbody tr th:only-of-type {\n",
       "        vertical-align: middle;\n",
       "    }\n",
       "\n",
       "    .dataframe tbody tr th {\n",
       "        vertical-align: top;\n",
       "    }\n",
       "\n",
       "    .dataframe thead th {\n",
       "        text-align: right;\n",
       "    }\n",
       "</style>\n",
       "<table border=\"1\" class=\"dataframe\">\n",
       "  <thead>\n",
       "    <tr style=\"text-align: right;\">\n",
       "      <th></th>\n",
       "      <th>ride_id</th>\n",
       "      <th>rideable_type</th>\n",
       "      <th>started_at</th>\n",
       "      <th>ended_at</th>\n",
       "      <th>start_station_name</th>\n",
       "      <th>start_station_id</th>\n",
       "      <th>end_station_name</th>\n",
       "      <th>end_station_id</th>\n",
       "      <th>start_lat</th>\n",
       "      <th>start_lng</th>\n",
       "      <th>end_lat</th>\n",
       "      <th>end_lng</th>\n",
       "      <th>member_casual</th>\n",
       "    </tr>\n",
       "  </thead>\n",
       "  <tbody>\n",
       "    <tr>\n",
       "      <th>0</th>\n",
       "      <td>0D9FA920C3062031</td>\n",
       "      <td>electric_bike</td>\n",
       "      <td>2023-05-07 19:53:48</td>\n",
       "      <td>2023-05-07 19:58:32</td>\n",
       "      <td>Southport Ave &amp; Belmont Ave</td>\n",
       "      <td>13229</td>\n",
       "      <td>NaN</td>\n",
       "      <td>NaN</td>\n",
       "      <td>41.939408</td>\n",
       "      <td>-87.663831</td>\n",
       "      <td>41.930000</td>\n",
       "      <td>-87.650000</td>\n",
       "      <td>member</td>\n",
       "    </tr>\n",
       "    <tr>\n",
       "      <th>1</th>\n",
       "      <td>92485E5FB5888ACD</td>\n",
       "      <td>electric_bike</td>\n",
       "      <td>2023-05-06 18:54:08</td>\n",
       "      <td>2023-05-06 19:03:35</td>\n",
       "      <td>Southport Ave &amp; Belmont Ave</td>\n",
       "      <td>13229</td>\n",
       "      <td>NaN</td>\n",
       "      <td>NaN</td>\n",
       "      <td>41.939482</td>\n",
       "      <td>-87.663848</td>\n",
       "      <td>41.940000</td>\n",
       "      <td>-87.690000</td>\n",
       "      <td>member</td>\n",
       "    </tr>\n",
       "    <tr>\n",
       "      <th>2</th>\n",
       "      <td>FB144B3FC8300187</td>\n",
       "      <td>electric_bike</td>\n",
       "      <td>2023-05-21 00:40:21</td>\n",
       "      <td>2023-05-21 00:44:36</td>\n",
       "      <td>Halsted St &amp; 21st St</td>\n",
       "      <td>13162</td>\n",
       "      <td>NaN</td>\n",
       "      <td>NaN</td>\n",
       "      <td>41.853793</td>\n",
       "      <td>-87.646719</td>\n",
       "      <td>41.860000</td>\n",
       "      <td>-87.650000</td>\n",
       "      <td>member</td>\n",
       "    </tr>\n",
       "    <tr>\n",
       "      <th>3</th>\n",
       "      <td>DDEB93BC2CE9AA77</td>\n",
       "      <td>classic_bike</td>\n",
       "      <td>2023-05-10 16:47:01</td>\n",
       "      <td>2023-05-10 16:59:52</td>\n",
       "      <td>Carpenter St &amp; Huron St</td>\n",
       "      <td>13196</td>\n",
       "      <td>Damen Ave &amp; Cortland St</td>\n",
       "      <td>13133</td>\n",
       "      <td>41.894556</td>\n",
       "      <td>-87.653449</td>\n",
       "      <td>41.915983</td>\n",
       "      <td>-87.677335</td>\n",
       "      <td>member</td>\n",
       "    </tr>\n",
       "    <tr>\n",
       "      <th>4</th>\n",
       "      <td>C07B70172FC92F59</td>\n",
       "      <td>classic_bike</td>\n",
       "      <td>2023-05-09 18:30:34</td>\n",
       "      <td>2023-05-09 18:39:28</td>\n",
       "      <td>Southport Ave &amp; Clark St</td>\n",
       "      <td>TA1308000047</td>\n",
       "      <td>Southport Ave &amp; Belmont Ave</td>\n",
       "      <td>13229</td>\n",
       "      <td>41.957081</td>\n",
       "      <td>-87.664199</td>\n",
       "      <td>41.939478</td>\n",
       "      <td>-87.663748</td>\n",
       "      <td>member</td>\n",
       "    </tr>\n",
       "  </tbody>\n",
       "</table>\n",
       "</div>"
      ],
      "text/plain": [
       "            ride_id  rideable_type           started_at             ended_at  \\\n",
       "0  0D9FA920C3062031  electric_bike  2023-05-07 19:53:48  2023-05-07 19:58:32   \n",
       "1  92485E5FB5888ACD  electric_bike  2023-05-06 18:54:08  2023-05-06 19:03:35   \n",
       "2  FB144B3FC8300187  electric_bike  2023-05-21 00:40:21  2023-05-21 00:44:36   \n",
       "3  DDEB93BC2CE9AA77   classic_bike  2023-05-10 16:47:01  2023-05-10 16:59:52   \n",
       "4  C07B70172FC92F59   classic_bike  2023-05-09 18:30:34  2023-05-09 18:39:28   \n",
       "\n",
       "            start_station_name start_station_id             end_station_name  \\\n",
       "0  Southport Ave & Belmont Ave            13229                          NaN   \n",
       "1  Southport Ave & Belmont Ave            13229                          NaN   \n",
       "2         Halsted St & 21st St            13162                          NaN   \n",
       "3      Carpenter St & Huron St            13196      Damen Ave & Cortland St   \n",
       "4     Southport Ave & Clark St     TA1308000047  Southport Ave & Belmont Ave   \n",
       "\n",
       "  end_station_id  start_lat  start_lng    end_lat    end_lng member_casual  \n",
       "0            NaN  41.939408 -87.663831  41.930000 -87.650000        member  \n",
       "1            NaN  41.939482 -87.663848  41.940000 -87.690000        member  \n",
       "2            NaN  41.853793 -87.646719  41.860000 -87.650000        member  \n",
       "3          13133  41.894556 -87.653449  41.915983 -87.677335        member  \n",
       "4          13229  41.957081 -87.664199  41.939478 -87.663748        member  "
      ]
     },
     "execution_count": 3,
     "metadata": {},
     "output_type": "execute_result"
    }
   ],
   "source": [
    "# previewing the data\n",
    "data.head()"
   ]
  },
  {
   "cell_type": "code",
   "execution_count": 4,
   "id": "63ad41a1",
   "metadata": {},
   "outputs": [
    {
     "data": {
      "text/plain": [
       "(604827, 13)"
      ]
     },
     "execution_count": 4,
     "metadata": {},
     "output_type": "execute_result"
    }
   ],
   "source": [
    "data.shape"
   ]
  },
  {
   "cell_type": "markdown",
   "id": "fd0552c5",
   "metadata": {},
   "source": [
    "We have a total of 604,827 rows and 13 columns before cleaning"
   ]
  },
  {
   "cell_type": "code",
   "execution_count": 5,
   "id": "b57e2f88",
   "metadata": {
    "scrolled": true
   },
   "outputs": [
    {
     "data": {
      "text/plain": [
       "ride_id                   0\n",
       "rideable_type             0\n",
       "started_at                0\n",
       "ended_at                  0\n",
       "start_station_name    89240\n",
       "start_station_id      89240\n",
       "end_station_name      95267\n",
       "end_station_id        95267\n",
       "start_lat                 0\n",
       "start_lng                 0\n",
       "end_lat                 710\n",
       "end_lng                 710\n",
       "member_casual             0\n",
       "dtype: int64"
      ]
     },
     "execution_count": 5,
     "metadata": {},
     "output_type": "execute_result"
    }
   ],
   "source": [
    "data.isnull().sum()"
   ]
  },
  {
   "cell_type": "markdown",
   "id": "511da211",
   "metadata": {},
   "source": [
    "For this business task, we wouldn't be needing the start_station_name, start_station_id, end_station_name, and end_station_id, because the station details doesnt help in achieving the business task(**How do annual members and casual riders use Cyclistic bikes differently?**)"
   ]
  },
  {
   "cell_type": "markdown",
   "id": "2c2d6f4b",
   "metadata": {},
   "source": [
    "**Data cleaning**"
   ]
  },
  {
   "cell_type": "code",
   "execution_count": 6,
   "id": "f303f2f7",
   "metadata": {},
   "outputs": [],
   "source": [
    "#dropping the columns start_staion_name, start_station_id, end_station_name, and end_station_id\n",
    "\n",
    "data_dropped = data.drop(['start_station_name', 'start_station_id', 'end_station_name', 'end_station_id', 'start_lat', 'start_lng', 'end_lat', 'end_lng'], axis = 1)"
   ]
  },
  {
   "cell_type": "code",
   "execution_count": 7,
   "id": "9b11680f",
   "metadata": {},
   "outputs": [
    {
     "data": {
      "text/html": [
       "<div>\n",
       "<style scoped>\n",
       "    .dataframe tbody tr th:only-of-type {\n",
       "        vertical-align: middle;\n",
       "    }\n",
       "\n",
       "    .dataframe tbody tr th {\n",
       "        vertical-align: top;\n",
       "    }\n",
       "\n",
       "    .dataframe thead th {\n",
       "        text-align: right;\n",
       "    }\n",
       "</style>\n",
       "<table border=\"1\" class=\"dataframe\">\n",
       "  <thead>\n",
       "    <tr style=\"text-align: right;\">\n",
       "      <th></th>\n",
       "      <th>ride_id</th>\n",
       "      <th>rideable_type</th>\n",
       "      <th>started_at</th>\n",
       "      <th>ended_at</th>\n",
       "      <th>member_casual</th>\n",
       "    </tr>\n",
       "  </thead>\n",
       "  <tbody>\n",
       "    <tr>\n",
       "      <th>0</th>\n",
       "      <td>0D9FA920C3062031</td>\n",
       "      <td>electric_bike</td>\n",
       "      <td>2023-05-07 19:53:48</td>\n",
       "      <td>2023-05-07 19:58:32</td>\n",
       "      <td>member</td>\n",
       "    </tr>\n",
       "    <tr>\n",
       "      <th>1</th>\n",
       "      <td>92485E5FB5888ACD</td>\n",
       "      <td>electric_bike</td>\n",
       "      <td>2023-05-06 18:54:08</td>\n",
       "      <td>2023-05-06 19:03:35</td>\n",
       "      <td>member</td>\n",
       "    </tr>\n",
       "    <tr>\n",
       "      <th>2</th>\n",
       "      <td>FB144B3FC8300187</td>\n",
       "      <td>electric_bike</td>\n",
       "      <td>2023-05-21 00:40:21</td>\n",
       "      <td>2023-05-21 00:44:36</td>\n",
       "      <td>member</td>\n",
       "    </tr>\n",
       "    <tr>\n",
       "      <th>3</th>\n",
       "      <td>DDEB93BC2CE9AA77</td>\n",
       "      <td>classic_bike</td>\n",
       "      <td>2023-05-10 16:47:01</td>\n",
       "      <td>2023-05-10 16:59:52</td>\n",
       "      <td>member</td>\n",
       "    </tr>\n",
       "    <tr>\n",
       "      <th>4</th>\n",
       "      <td>C07B70172FC92F59</td>\n",
       "      <td>classic_bike</td>\n",
       "      <td>2023-05-09 18:30:34</td>\n",
       "      <td>2023-05-09 18:39:28</td>\n",
       "      <td>member</td>\n",
       "    </tr>\n",
       "  </tbody>\n",
       "</table>\n",
       "</div>"
      ],
      "text/plain": [
       "            ride_id  rideable_type           started_at             ended_at  \\\n",
       "0  0D9FA920C3062031  electric_bike  2023-05-07 19:53:48  2023-05-07 19:58:32   \n",
       "1  92485E5FB5888ACD  electric_bike  2023-05-06 18:54:08  2023-05-06 19:03:35   \n",
       "2  FB144B3FC8300187  electric_bike  2023-05-21 00:40:21  2023-05-21 00:44:36   \n",
       "3  DDEB93BC2CE9AA77   classic_bike  2023-05-10 16:47:01  2023-05-10 16:59:52   \n",
       "4  C07B70172FC92F59   classic_bike  2023-05-09 18:30:34  2023-05-09 18:39:28   \n",
       "\n",
       "  member_casual  \n",
       "0        member  \n",
       "1        member  \n",
       "2        member  \n",
       "3        member  \n",
       "4        member  "
      ]
     },
     "execution_count": 7,
     "metadata": {},
     "output_type": "execute_result"
    }
   ],
   "source": [
    "data_dropped.head()"
   ]
  },
  {
   "cell_type": "code",
   "execution_count": 8,
   "id": "0466e0f0",
   "metadata": {},
   "outputs": [
    {
     "data": {
      "text/plain": [
       "ride_id          0\n",
       "rideable_type    0\n",
       "started_at       0\n",
       "ended_at         0\n",
       "member_casual    0\n",
       "dtype: int64"
      ]
     },
     "execution_count": 8,
     "metadata": {},
     "output_type": "execute_result"
    }
   ],
   "source": [
    "data_dropped.isnull().sum()"
   ]
  },
  {
   "cell_type": "code",
   "execution_count": 9,
   "id": "ab180d93",
   "metadata": {},
   "outputs": [
    {
     "data": {
      "text/plain": [
       "ride_id          object\n",
       "rideable_type    object\n",
       "started_at       object\n",
       "ended_at         object\n",
       "member_casual    object\n",
       "dtype: object"
      ]
     },
     "execution_count": 9,
     "metadata": {},
     "output_type": "execute_result"
    }
   ],
   "source": [
    "#getting the data types of the columns and the formatting\n",
    "\n",
    "data_dropped.dtypes"
   ]
  },
  {
   "cell_type": "code",
   "execution_count": 10,
   "id": "28364693",
   "metadata": {},
   "outputs": [],
   "source": [
    "data_dropped['started_at'] = pd.to_datetime(data_dropped['started_at'])"
   ]
  },
  {
   "cell_type": "code",
   "execution_count": 11,
   "id": "f0f8dd12",
   "metadata": {},
   "outputs": [],
   "source": [
    "data_dropped['ended_at'] = pd.to_datetime(data_dropped['ended_at'])"
   ]
  },
  {
   "cell_type": "code",
   "execution_count": 12,
   "id": "1ab6abae",
   "metadata": {},
   "outputs": [
    {
     "data": {
      "text/plain": [
       "ride_id                  object\n",
       "rideable_type            object\n",
       "started_at       datetime64[ns]\n",
       "ended_at         datetime64[ns]\n",
       "member_casual            object\n",
       "dtype: object"
      ]
     },
     "execution_count": 12,
     "metadata": {},
     "output_type": "execute_result"
    }
   ],
   "source": [
    "data_dropped.dtypes"
   ]
  },
  {
   "cell_type": "markdown",
   "id": "e67024a2",
   "metadata": {},
   "source": [
    "**Feature Engineering**"
   ]
  },
  {
   "cell_type": "code",
   "execution_count": 13,
   "id": "23412e27",
   "metadata": {},
   "outputs": [],
   "source": [
    "# creating a column called “ride_length\" to determine the duration of the ride, and if it has any effect on the membership plan\n",
    "\n",
    "data_dropped['ride_length'] = data_dropped['ended_at'] - data_dropped['started_at']"
   ]
  },
  {
   "cell_type": "code",
   "execution_count": 14,
   "id": "9e4f2d74",
   "metadata": {},
   "outputs": [],
   "source": [
    "data_dropped['day_of_week'] = data_dropped['started_at'].dt.day_name()"
   ]
  },
  {
   "cell_type": "code",
   "execution_count": 15,
   "id": "40ced8bf",
   "metadata": {},
   "outputs": [],
   "source": [
    "# creating a column that calculates the total ride length in seconds\n",
    "\n",
    "data_dropped['ride_length_in_sec'] = data_dropped['ride_length'].dt.total_seconds()"
   ]
  },
  {
   "cell_type": "code",
   "execution_count": 16,
   "id": "dcf36d8c",
   "metadata": {},
   "outputs": [
    {
     "data": {
      "text/html": [
       "<div>\n",
       "<style scoped>\n",
       "    .dataframe tbody tr th:only-of-type {\n",
       "        vertical-align: middle;\n",
       "    }\n",
       "\n",
       "    .dataframe tbody tr th {\n",
       "        vertical-align: top;\n",
       "    }\n",
       "\n",
       "    .dataframe thead th {\n",
       "        text-align: right;\n",
       "    }\n",
       "</style>\n",
       "<table border=\"1\" class=\"dataframe\">\n",
       "  <thead>\n",
       "    <tr style=\"text-align: right;\">\n",
       "      <th></th>\n",
       "      <th>ride_id</th>\n",
       "      <th>rideable_type</th>\n",
       "      <th>started_at</th>\n",
       "      <th>ended_at</th>\n",
       "      <th>member_casual</th>\n",
       "      <th>ride_length</th>\n",
       "      <th>day_of_week</th>\n",
       "      <th>ride_length_in_sec</th>\n",
       "    </tr>\n",
       "  </thead>\n",
       "  <tbody>\n",
       "    <tr>\n",
       "      <th>0</th>\n",
       "      <td>0D9FA920C3062031</td>\n",
       "      <td>electric_bike</td>\n",
       "      <td>2023-05-07 19:53:48</td>\n",
       "      <td>2023-05-07 19:58:32</td>\n",
       "      <td>member</td>\n",
       "      <td>0 days 00:04:44</td>\n",
       "      <td>Sunday</td>\n",
       "      <td>284.0</td>\n",
       "    </tr>\n",
       "    <tr>\n",
       "      <th>1</th>\n",
       "      <td>92485E5FB5888ACD</td>\n",
       "      <td>electric_bike</td>\n",
       "      <td>2023-05-06 18:54:08</td>\n",
       "      <td>2023-05-06 19:03:35</td>\n",
       "      <td>member</td>\n",
       "      <td>0 days 00:09:27</td>\n",
       "      <td>Saturday</td>\n",
       "      <td>567.0</td>\n",
       "    </tr>\n",
       "    <tr>\n",
       "      <th>2</th>\n",
       "      <td>FB144B3FC8300187</td>\n",
       "      <td>electric_bike</td>\n",
       "      <td>2023-05-21 00:40:21</td>\n",
       "      <td>2023-05-21 00:44:36</td>\n",
       "      <td>member</td>\n",
       "      <td>0 days 00:04:15</td>\n",
       "      <td>Sunday</td>\n",
       "      <td>255.0</td>\n",
       "    </tr>\n",
       "    <tr>\n",
       "      <th>3</th>\n",
       "      <td>DDEB93BC2CE9AA77</td>\n",
       "      <td>classic_bike</td>\n",
       "      <td>2023-05-10 16:47:01</td>\n",
       "      <td>2023-05-10 16:59:52</td>\n",
       "      <td>member</td>\n",
       "      <td>0 days 00:12:51</td>\n",
       "      <td>Wednesday</td>\n",
       "      <td>771.0</td>\n",
       "    </tr>\n",
       "    <tr>\n",
       "      <th>4</th>\n",
       "      <td>C07B70172FC92F59</td>\n",
       "      <td>classic_bike</td>\n",
       "      <td>2023-05-09 18:30:34</td>\n",
       "      <td>2023-05-09 18:39:28</td>\n",
       "      <td>member</td>\n",
       "      <td>0 days 00:08:54</td>\n",
       "      <td>Tuesday</td>\n",
       "      <td>534.0</td>\n",
       "    </tr>\n",
       "  </tbody>\n",
       "</table>\n",
       "</div>"
      ],
      "text/plain": [
       "            ride_id  rideable_type          started_at            ended_at  \\\n",
       "0  0D9FA920C3062031  electric_bike 2023-05-07 19:53:48 2023-05-07 19:58:32   \n",
       "1  92485E5FB5888ACD  electric_bike 2023-05-06 18:54:08 2023-05-06 19:03:35   \n",
       "2  FB144B3FC8300187  electric_bike 2023-05-21 00:40:21 2023-05-21 00:44:36   \n",
       "3  DDEB93BC2CE9AA77   classic_bike 2023-05-10 16:47:01 2023-05-10 16:59:52   \n",
       "4  C07B70172FC92F59   classic_bike 2023-05-09 18:30:34 2023-05-09 18:39:28   \n",
       "\n",
       "  member_casual     ride_length day_of_week  ride_length_in_sec  \n",
       "0        member 0 days 00:04:44      Sunday               284.0  \n",
       "1        member 0 days 00:09:27    Saturday               567.0  \n",
       "2        member 0 days 00:04:15      Sunday               255.0  \n",
       "3        member 0 days 00:12:51   Wednesday               771.0  \n",
       "4        member 0 days 00:08:54     Tuesday               534.0  "
      ]
     },
     "execution_count": 16,
     "metadata": {},
     "output_type": "execute_result"
    }
   ],
   "source": [
    "data_dropped.head()"
   ]
  },
  {
   "cell_type": "markdown",
   "id": "46639e0a",
   "metadata": {},
   "source": [
    "The data is cleaned and ready for Analysis"
   ]
  },
  {
   "cell_type": "markdown",
   "id": "73341cb9",
   "metadata": {},
   "source": [
    "## Exploratory Data Analysis"
   ]
  },
  {
   "cell_type": "markdown",
   "id": "ad992b82",
   "metadata": {},
   "source": [
    "How many distinct Rideable_type and Member_casual are there?"
   ]
  },
  {
   "cell_type": "code",
   "execution_count": 17,
   "id": "105426d9",
   "metadata": {},
   "outputs": [
    {
     "data": {
      "text/plain": [
       "array(['electric_bike', 'classic_bike', 'docked_bike'], dtype=object)"
      ]
     },
     "execution_count": 17,
     "metadata": {},
     "output_type": "execute_result"
    }
   ],
   "source": [
    "data_dropped['rideable_type'].unique()"
   ]
  },
  {
   "cell_type": "code",
   "execution_count": 18,
   "id": "e118f0b0",
   "metadata": {},
   "outputs": [
    {
     "data": {
      "text/plain": [
       "array(['member', 'casual'], dtype=object)"
      ]
     },
     "execution_count": 18,
     "metadata": {},
     "output_type": "execute_result"
    }
   ],
   "source": [
    "data_dropped['member_casual'].unique()"
   ]
  },
  {
   "cell_type": "markdown",
   "id": "a5c83dc1",
   "metadata": {},
   "source": [
    "**Are there any relationship between the type of bikes and the membership plan?**\n",
    "\n",
    "i.e, we need to determine if casual members rides a specific bike type and if also there is a bike type annual members prefer.\n",
    "\n",
    "This helps to help us know how annual members and casual riders use Cyclistic bikes differently"
   ]
  },
  {
   "cell_type": "code",
   "execution_count": 19,
   "id": "a4c1bdc6",
   "metadata": {},
   "outputs": [],
   "source": [
    "data_group_type = data_dropped.groupby(['member_casual', 'rideable_type'])[['rideable_type']].count()"
   ]
  },
  {
   "cell_type": "code",
   "execution_count": 20,
   "id": "499768f3",
   "metadata": {},
   "outputs": [
    {
     "data": {
      "text/html": [
       "<div>\n",
       "<style scoped>\n",
       "    .dataframe tbody tr th:only-of-type {\n",
       "        vertical-align: middle;\n",
       "    }\n",
       "\n",
       "    .dataframe tbody tr th {\n",
       "        vertical-align: top;\n",
       "    }\n",
       "\n",
       "    .dataframe thead th {\n",
       "        text-align: right;\n",
       "    }\n",
       "</style>\n",
       "<table border=\"1\" class=\"dataframe\">\n",
       "  <thead>\n",
       "    <tr style=\"text-align: right;\">\n",
       "      <th></th>\n",
       "      <th></th>\n",
       "      <th>rideable_type</th>\n",
       "    </tr>\n",
       "    <tr>\n",
       "      <th>member_casual</th>\n",
       "      <th>rideable_type</th>\n",
       "      <th></th>\n",
       "    </tr>\n",
       "  </thead>\n",
       "  <tbody>\n",
       "    <tr>\n",
       "      <th rowspan=\"3\" valign=\"top\">casual</th>\n",
       "      <th>classic_bike</th>\n",
       "      <td>92598</td>\n",
       "    </tr>\n",
       "    <tr>\n",
       "      <th>docked_bike</th>\n",
       "      <td>13092</td>\n",
       "    </tr>\n",
       "    <tr>\n",
       "      <th>electric_bike</th>\n",
       "      <td>128491</td>\n",
       "    </tr>\n",
       "    <tr>\n",
       "      <th rowspan=\"2\" valign=\"top\">member</th>\n",
       "      <th>classic_bike</th>\n",
       "      <td>177297</td>\n",
       "    </tr>\n",
       "    <tr>\n",
       "      <th>electric_bike</th>\n",
       "      <td>193349</td>\n",
       "    </tr>\n",
       "  </tbody>\n",
       "</table>\n",
       "</div>"
      ],
      "text/plain": [
       "                             rideable_type\n",
       "member_casual rideable_type               \n",
       "casual        classic_bike           92598\n",
       "              docked_bike            13092\n",
       "              electric_bike         128491\n",
       "member        classic_bike          177297\n",
       "              electric_bike         193349"
      ]
     },
     "execution_count": 20,
     "metadata": {},
     "output_type": "execute_result"
    }
   ],
   "source": [
    "data_group_type"
   ]
  },
  {
   "cell_type": "markdown",
   "id": "db30f3cc",
   "metadata": {},
   "source": [
    "From the data above, it tells us that on both of the membership plan (annual members and casual riders), they both use more of the **electric bike type**. The only difference is that the members riders don't use **docked_bike at all**."
   ]
  },
  {
   "cell_type": "markdown",
   "id": "93054d23",
   "metadata": {},
   "source": [
    "---------"
   ]
  },
  {
   "cell_type": "markdown",
   "id": "35c7364a",
   "metadata": {},
   "source": [
    "This promts the question: \"Does Members riders plan have provisions for **\"docked bikes\"**?\n",
    "\n",
    "if YES, it then seems that riders in the members plan don't use the docked bikes at all, which seems impossible.\n",
    "\n",
    "But, \n",
    "\n",
    "if NO, then we can **recommend that docked bikes be added to the members riders plan in other to draw customers from the casual plan to the members plan**"
   ]
  },
  {
   "cell_type": "markdown",
   "id": "76eb67b5",
   "metadata": {},
   "source": [
    "--------"
   ]
  },
  {
   "cell_type": "markdown",
   "id": "e6b385f7",
   "metadata": {},
   "source": [
    "**How does the ride length affect the membership plan**"
   ]
  },
  {
   "cell_type": "markdown",
   "id": "bc7ca3fa",
   "metadata": {},
   "source": [
    "Firstly, we need to get the average ride length for the members and casual riders"
   ]
  },
  {
   "cell_type": "code",
   "execution_count": 21,
   "id": "992518bf",
   "metadata": {},
   "outputs": [],
   "source": [
    "#getting the average ride lengths in seconds\n",
    "data_group_length = data_dropped.groupby(['member_casual'])[['ride_length_in_sec']].mean().round().reset_index()"
   ]
  },
  {
   "cell_type": "code",
   "execution_count": 22,
   "id": "aef76839",
   "metadata": {},
   "outputs": [
    {
     "data": {
      "text/html": [
       "<div>\n",
       "<style scoped>\n",
       "    .dataframe tbody tr th:only-of-type {\n",
       "        vertical-align: middle;\n",
       "    }\n",
       "\n",
       "    .dataframe tbody tr th {\n",
       "        vertical-align: top;\n",
       "    }\n",
       "\n",
       "    .dataframe thead th {\n",
       "        text-align: right;\n",
       "    }\n",
       "</style>\n",
       "<table border=\"1\" class=\"dataframe\">\n",
       "  <thead>\n",
       "    <tr style=\"text-align: right;\">\n",
       "      <th></th>\n",
       "      <th>member_casual</th>\n",
       "      <th>ride_length_in_sec</th>\n",
       "    </tr>\n",
       "  </thead>\n",
       "  <tbody>\n",
       "    <tr>\n",
       "      <th>0</th>\n",
       "      <td>casual</td>\n",
       "      <td>1711.0</td>\n",
       "    </tr>\n",
       "    <tr>\n",
       "      <th>1</th>\n",
       "      <td>member</td>\n",
       "      <td>782.0</td>\n",
       "    </tr>\n",
       "  </tbody>\n",
       "</table>\n",
       "</div>"
      ],
      "text/plain": [
       "  member_casual  ride_length_in_sec\n",
       "0        casual              1711.0\n",
       "1        member               782.0"
      ]
     },
     "execution_count": 22,
     "metadata": {},
     "output_type": "execute_result"
    }
   ],
   "source": [
    "data_group_length"
   ]
  },
  {
   "cell_type": "code",
   "execution_count": 23,
   "id": "3a252074",
   "metadata": {},
   "outputs": [],
   "source": [
    "#getting the average ride lengths by day_of_week\n",
    "data_group_day = data_dropped.groupby(['day_of_week'])[['ride_length_in_sec']].mean().round().reset_index()"
   ]
  },
  {
   "cell_type": "code",
   "execution_count": 24,
   "id": "1e0a84ca",
   "metadata": {},
   "outputs": [
    {
     "data": {
      "text/html": [
       "<div>\n",
       "<style scoped>\n",
       "    .dataframe tbody tr th:only-of-type {\n",
       "        vertical-align: middle;\n",
       "    }\n",
       "\n",
       "    .dataframe tbody tr th {\n",
       "        vertical-align: top;\n",
       "    }\n",
       "\n",
       "    .dataframe thead th {\n",
       "        text-align: right;\n",
       "    }\n",
       "</style>\n",
       "<table border=\"1\" class=\"dataframe\">\n",
       "  <thead>\n",
       "    <tr style=\"text-align: right;\">\n",
       "      <th></th>\n",
       "      <th>day_of_week</th>\n",
       "      <th>ride_length_in_sec</th>\n",
       "    </tr>\n",
       "  </thead>\n",
       "  <tbody>\n",
       "    <tr>\n",
       "      <th>3</th>\n",
       "      <td>Sunday</td>\n",
       "      <td>1448.0</td>\n",
       "    </tr>\n",
       "    <tr>\n",
       "      <th>2</th>\n",
       "      <td>Saturday</td>\n",
       "      <td>1376.0</td>\n",
       "    </tr>\n",
       "    <tr>\n",
       "      <th>0</th>\n",
       "      <td>Friday</td>\n",
       "      <td>1103.0</td>\n",
       "    </tr>\n",
       "    <tr>\n",
       "      <th>1</th>\n",
       "      <td>Monday</td>\n",
       "      <td>1096.0</td>\n",
       "    </tr>\n",
       "    <tr>\n",
       "      <th>5</th>\n",
       "      <td>Tuesday</td>\n",
       "      <td>1042.0</td>\n",
       "    </tr>\n",
       "    <tr>\n",
       "      <th>4</th>\n",
       "      <td>Thursday</td>\n",
       "      <td>1027.0</td>\n",
       "    </tr>\n",
       "    <tr>\n",
       "      <th>6</th>\n",
       "      <td>Wednesday</td>\n",
       "      <td>950.0</td>\n",
       "    </tr>\n",
       "  </tbody>\n",
       "</table>\n",
       "</div>"
      ],
      "text/plain": [
       "  day_of_week  ride_length_in_sec\n",
       "3      Sunday              1448.0\n",
       "2    Saturday              1376.0\n",
       "0      Friday              1103.0\n",
       "1      Monday              1096.0\n",
       "5     Tuesday              1042.0\n",
       "4    Thursday              1027.0\n",
       "6   Wednesday               950.0"
      ]
     },
     "execution_count": 24,
     "metadata": {},
     "output_type": "execute_result"
    }
   ],
   "source": [
    "data_group_day.sort_values('ride_length_in_sec', ascending=False)"
   ]
  },
  {
   "cell_type": "code",
   "execution_count": 25,
   "id": "487fd6d5",
   "metadata": {},
   "outputs": [],
   "source": [
    "#getting the average ride lengths by day_of_week and by membership plans\n",
    "data_group_day_plan = data_dropped.groupby(['member_casual', 'day_of_week'])[['ride_length_in_sec']].mean().round()"
   ]
  },
  {
   "cell_type": "code",
   "execution_count": 26,
   "id": "3615d1f8",
   "metadata": {},
   "outputs": [
    {
     "data": {
      "text/html": [
       "<div>\n",
       "<style scoped>\n",
       "    .dataframe tbody tr th:only-of-type {\n",
       "        vertical-align: middle;\n",
       "    }\n",
       "\n",
       "    .dataframe tbody tr th {\n",
       "        vertical-align: top;\n",
       "    }\n",
       "\n",
       "    .dataframe thead th {\n",
       "        text-align: right;\n",
       "    }\n",
       "</style>\n",
       "<table border=\"1\" class=\"dataframe\">\n",
       "  <thead>\n",
       "    <tr style=\"text-align: right;\">\n",
       "      <th></th>\n",
       "      <th></th>\n",
       "      <th>ride_length_in_sec</th>\n",
       "    </tr>\n",
       "    <tr>\n",
       "      <th>member_casual</th>\n",
       "      <th>day_of_week</th>\n",
       "      <th></th>\n",
       "    </tr>\n",
       "  </thead>\n",
       "  <tbody>\n",
       "    <tr>\n",
       "      <th rowspan=\"7\" valign=\"top\">casual</th>\n",
       "      <th>Sunday</th>\n",
       "      <td>1995.0</td>\n",
       "    </tr>\n",
       "    <tr>\n",
       "      <th>Saturday</th>\n",
       "      <td>1913.0</td>\n",
       "    </tr>\n",
       "    <tr>\n",
       "      <th>Monday</th>\n",
       "      <td>1669.0</td>\n",
       "    </tr>\n",
       "    <tr>\n",
       "      <th>Friday</th>\n",
       "      <td>1668.0</td>\n",
       "    </tr>\n",
       "    <tr>\n",
       "      <th>Thursday</th>\n",
       "      <td>1586.0</td>\n",
       "    </tr>\n",
       "    <tr>\n",
       "      <th>Tuesday</th>\n",
       "      <td>1582.0</td>\n",
       "    </tr>\n",
       "    <tr>\n",
       "      <th>Wednesday</th>\n",
       "      <td>1396.0</td>\n",
       "    </tr>\n",
       "    <tr>\n",
       "      <th rowspan=\"7\" valign=\"top\">member</th>\n",
       "      <th>Sunday</th>\n",
       "      <td>890.0</td>\n",
       "    </tr>\n",
       "    <tr>\n",
       "      <th>Saturday</th>\n",
       "      <td>872.0</td>\n",
       "    </tr>\n",
       "    <tr>\n",
       "      <th>Tuesday</th>\n",
       "      <td>776.0</td>\n",
       "    </tr>\n",
       "    <tr>\n",
       "      <th>Friday</th>\n",
       "      <td>753.0</td>\n",
       "    </tr>\n",
       "    <tr>\n",
       "      <th>Monday</th>\n",
       "      <td>750.0</td>\n",
       "    </tr>\n",
       "    <tr>\n",
       "      <th>Thursday</th>\n",
       "      <td>743.0</td>\n",
       "    </tr>\n",
       "    <tr>\n",
       "      <th>Wednesday</th>\n",
       "      <td>742.0</td>\n",
       "    </tr>\n",
       "  </tbody>\n",
       "</table>\n",
       "</div>"
      ],
      "text/plain": [
       "                           ride_length_in_sec\n",
       "member_casual day_of_week                    \n",
       "casual        Sunday                   1995.0\n",
       "              Saturday                 1913.0\n",
       "              Monday                   1669.0\n",
       "              Friday                   1668.0\n",
       "              Thursday                 1586.0\n",
       "              Tuesday                  1582.0\n",
       "              Wednesday                1396.0\n",
       "member        Sunday                    890.0\n",
       "              Saturday                  872.0\n",
       "              Tuesday                   776.0\n",
       "              Friday                    753.0\n",
       "              Monday                    750.0\n",
       "              Thursday                  743.0\n",
       "              Wednesday                 742.0"
      ]
     },
     "execution_count": 26,
     "metadata": {},
     "output_type": "execute_result"
    }
   ],
   "source": [
    "data_group_day_plan.sort_values('ride_length_in_sec', ascending=False)"
   ]
  },
  {
   "cell_type": "code",
   "execution_count": 27,
   "id": "d748e2c6",
   "metadata": {},
   "outputs": [],
   "source": [
    "#getting the total number of rides by day_of_week\n",
    "data_group_total = data_dropped.groupby('day_of_week')['rideable_type'].count().reset_index()"
   ]
  },
  {
   "cell_type": "code",
   "execution_count": 28,
   "id": "ed5596ba",
   "metadata": {},
   "outputs": [],
   "source": [
    "data_group_total = data_group_total.rename(columns={'rideable_type': 'count_of_rides'}, inplace=False)"
   ]
  },
  {
   "cell_type": "code",
   "execution_count": 29,
   "id": "f2614837",
   "metadata": {},
   "outputs": [
    {
     "data": {
      "text/html": [
       "<div>\n",
       "<style scoped>\n",
       "    .dataframe tbody tr th:only-of-type {\n",
       "        vertical-align: middle;\n",
       "    }\n",
       "\n",
       "    .dataframe tbody tr th {\n",
       "        vertical-align: top;\n",
       "    }\n",
       "\n",
       "    .dataframe thead th {\n",
       "        text-align: right;\n",
       "    }\n",
       "</style>\n",
       "<table border=\"1\" class=\"dataframe\">\n",
       "  <thead>\n",
       "    <tr style=\"text-align: right;\">\n",
       "      <th></th>\n",
       "      <th>day_of_week</th>\n",
       "      <th>count_of_rides</th>\n",
       "    </tr>\n",
       "  </thead>\n",
       "  <tbody>\n",
       "    <tr>\n",
       "      <th>5</th>\n",
       "      <td>Tuesday</td>\n",
       "      <td>101062</td>\n",
       "    </tr>\n",
       "    <tr>\n",
       "      <th>6</th>\n",
       "      <td>Wednesday</td>\n",
       "      <td>98910</td>\n",
       "    </tr>\n",
       "    <tr>\n",
       "      <th>2</th>\n",
       "      <td>Saturday</td>\n",
       "      <td>84080</td>\n",
       "    </tr>\n",
       "    <tr>\n",
       "      <th>4</th>\n",
       "      <td>Thursday</td>\n",
       "      <td>83957</td>\n",
       "    </tr>\n",
       "    <tr>\n",
       "      <th>3</th>\n",
       "      <td>Sunday</td>\n",
       "      <td>83367</td>\n",
       "    </tr>\n",
       "    <tr>\n",
       "      <th>1</th>\n",
       "      <td>Monday</td>\n",
       "      <td>78437</td>\n",
       "    </tr>\n",
       "    <tr>\n",
       "      <th>0</th>\n",
       "      <td>Friday</td>\n",
       "      <td>75014</td>\n",
       "    </tr>\n",
       "  </tbody>\n",
       "</table>\n",
       "</div>"
      ],
      "text/plain": [
       "  day_of_week  count_of_rides\n",
       "5     Tuesday          101062\n",
       "6   Wednesday           98910\n",
       "2    Saturday           84080\n",
       "4    Thursday           83957\n",
       "3      Sunday           83367\n",
       "1      Monday           78437\n",
       "0      Friday           75014"
      ]
     },
     "execution_count": 29,
     "metadata": {},
     "output_type": "execute_result"
    }
   ],
   "source": [
    "data_group_total.sort_values('count_of_rides', ascending=False)"
   ]
  },
  {
   "cell_type": "code",
   "execution_count": 30,
   "id": "a3d6780a",
   "metadata": {},
   "outputs": [],
   "source": [
    "#getting the total number of rides by day_of_week and by membership plans\n",
    "data_group_plan_total = data_dropped.groupby(['member_casual', 'day_of_week'])[['rideable_type']].count()"
   ]
  },
  {
   "cell_type": "code",
   "execution_count": 31,
   "id": "9a757ffc",
   "metadata": {},
   "outputs": [
    {
     "data": {
      "text/html": [
       "<div>\n",
       "<style scoped>\n",
       "    .dataframe tbody tr th:only-of-type {\n",
       "        vertical-align: middle;\n",
       "    }\n",
       "\n",
       "    .dataframe tbody tr th {\n",
       "        vertical-align: top;\n",
       "    }\n",
       "\n",
       "    .dataframe thead th {\n",
       "        text-align: right;\n",
       "    }\n",
       "</style>\n",
       "<table border=\"1\" class=\"dataframe\">\n",
       "  <thead>\n",
       "    <tr style=\"text-align: right;\">\n",
       "      <th></th>\n",
       "      <th></th>\n",
       "      <th>rideable_type</th>\n",
       "    </tr>\n",
       "    <tr>\n",
       "      <th>member_casual</th>\n",
       "      <th>day_of_week</th>\n",
       "      <th></th>\n",
       "    </tr>\n",
       "  </thead>\n",
       "  <tbody>\n",
       "    <tr>\n",
       "      <th rowspan=\"7\" valign=\"top\">casual</th>\n",
       "      <th>Friday</th>\n",
       "      <td>28712</td>\n",
       "    </tr>\n",
       "    <tr>\n",
       "      <th>Monday</th>\n",
       "      <td>29541</td>\n",
       "    </tr>\n",
       "    <tr>\n",
       "      <th>Saturday</th>\n",
       "      <td>40758</td>\n",
       "    </tr>\n",
       "    <tr>\n",
       "      <th>Sunday</th>\n",
       "      <td>42124</td>\n",
       "    </tr>\n",
       "    <tr>\n",
       "      <th>Thursday</th>\n",
       "      <td>28271</td>\n",
       "    </tr>\n",
       "    <tr>\n",
       "      <th>Tuesday</th>\n",
       "      <td>33382</td>\n",
       "    </tr>\n",
       "    <tr>\n",
       "      <th>Wednesday</th>\n",
       "      <td>31393</td>\n",
       "    </tr>\n",
       "    <tr>\n",
       "      <th rowspan=\"7\" valign=\"top\">member</th>\n",
       "      <th>Friday</th>\n",
       "      <td>46302</td>\n",
       "    </tr>\n",
       "    <tr>\n",
       "      <th>Monday</th>\n",
       "      <td>48896</td>\n",
       "    </tr>\n",
       "    <tr>\n",
       "      <th>Saturday</th>\n",
       "      <td>43322</td>\n",
       "    </tr>\n",
       "    <tr>\n",
       "      <th>Sunday</th>\n",
       "      <td>41243</td>\n",
       "    </tr>\n",
       "    <tr>\n",
       "      <th>Thursday</th>\n",
       "      <td>55686</td>\n",
       "    </tr>\n",
       "    <tr>\n",
       "      <th>Tuesday</th>\n",
       "      <td>67680</td>\n",
       "    </tr>\n",
       "    <tr>\n",
       "      <th>Wednesday</th>\n",
       "      <td>67517</td>\n",
       "    </tr>\n",
       "  </tbody>\n",
       "</table>\n",
       "</div>"
      ],
      "text/plain": [
       "                           rideable_type\n",
       "member_casual day_of_week               \n",
       "casual        Friday               28712\n",
       "              Monday               29541\n",
       "              Saturday             40758\n",
       "              Sunday               42124\n",
       "              Thursday             28271\n",
       "              Tuesday              33382\n",
       "              Wednesday            31393\n",
       "member        Friday               46302\n",
       "              Monday               48896\n",
       "              Saturday             43322\n",
       "              Sunday               41243\n",
       "              Thursday             55686\n",
       "              Tuesday              67680\n",
       "              Wednesday            67517"
      ]
     },
     "execution_count": 31,
     "metadata": {},
     "output_type": "execute_result"
    }
   ],
   "source": [
    "data_group_plan_total"
   ]
  },
  {
   "cell_type": "markdown",
   "id": "7369614a",
   "metadata": {},
   "source": [
    "From the analysis above, these are the summary:\n",
    "* The **casual** riders have an higher average ride_length than the **members** riders, which implies that casual riders journeys longer than the members riders.\n",
    "* On Sundays, there are lengthier journeys than that of other days.\n",
    "* **Members** riders rides more on **Tuesdays**, while **Casual** riders rides more on **Sundays**"
   ]
  },
  {
   "cell_type": "markdown",
   "id": "d23c3995",
   "metadata": {},
   "source": [
    "----"
   ]
  },
  {
   "cell_type": "markdown",
   "id": "172a94d8",
   "metadata": {},
   "source": [
    "We would be extracting the cleaned data for visualization, so as to easily communicate the findings from the data."
   ]
  },
  {
   "cell_type": "code",
   "execution_count": 32,
   "id": "6888df6f",
   "metadata": {},
   "outputs": [],
   "source": [
    "data_dropped.to_csv('cyclistic.csv', index=False)"
   ]
  },
  {
   "cell_type": "code",
   "execution_count": null,
   "id": "dd4c10e8",
   "metadata": {},
   "outputs": [],
   "source": []
  },
  {
   "cell_type": "code",
   "execution_count": null,
   "id": "c0765a08",
   "metadata": {},
   "outputs": [],
   "source": []
  }
 ],
 "metadata": {
  "kernelspec": {
   "display_name": "Python 3 (ipykernel)",
   "language": "python",
   "name": "python3"
  },
  "language_info": {
   "codemirror_mode": {
    "name": "ipython",
    "version": 3
   },
   "file_extension": ".py",
   "mimetype": "text/x-python",
   "name": "python",
   "nbconvert_exporter": "python",
   "pygments_lexer": "ipython3",
   "version": "3.10.9"
  }
 },
 "nbformat": 4,
 "nbformat_minor": 5
}
